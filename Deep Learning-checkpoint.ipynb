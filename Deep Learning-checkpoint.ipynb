{
 "cells": [
  {
   "cell_type": "code",
   "execution_count": 8,
   "id": "d0fb0746",
   "metadata": {},
   "outputs": [
    {
     "name": "stdout",
     "output_type": "stream",
     "text": [
      "Please enter a sentence: How are you?\n",
      "This is a question.\n"
     ]
    }
   ],
   "source": [
    "import nltk\n",
    "from nltk.tokenize import word_tokenize\n",
    "\n",
    "sentence = input(\"Please enter a sentence: \")\n",
    "tokens = word_tokenize(sentence)\n",
    "\n",
    "# Get the last token of the sentence\n",
    "last_token = tokens[-1]\n",
    "\n",
    "# Check if the last token is a question mark\n",
    "if last_token == \"?\":\n",
    "    print(\"This is a question.\")\n",
    "else:\n",
    "    print(\"This is an answer.\")\n",
    "\n"
   ]
  },
  {
   "cell_type": "code",
   "execution_count": 9,
   "id": "79cda379",
   "metadata": {},
   "outputs": [
    {
     "name": "stderr",
     "output_type": "stream",
     "text": [
      "[nltk_data] Downloading package punkt to\n",
      "[nltk_data]     C:\\Users\\de34670\\AppData\\Roaming\\nltk_data...\n",
      "[nltk_data]   Package punkt is already up-to-date!\n"
     ]
    },
    {
     "data": {
      "text/plain": [
       "True"
      ]
     },
     "execution_count": 9,
     "metadata": {},
     "output_type": "execute_result"
    }
   ],
   "source": [
    "import nltk\n",
    "nltk.download('punkt')"
   ]
  },
  {
   "cell_type": "code",
   "execution_count": 12,
   "id": "be848d18",
   "metadata": {},
   "outputs": [
    {
     "name": "stdout",
     "output_type": "stream",
     "text": [
      "Please enter a sentence: I love you\n",
      "Positive Sentiment with score of : 0.6369\n"
     ]
    }
   ],
   "source": [
    "import nltk\n",
    "from nltk.sentiment import SentimentIntensityAnalyzer\n",
    "\n",
    "# Prompt the user to input a sentence\n",
    "sentence = input(\"Please enter a sentence: \")\n",
    "\n",
    "# Create a SentimentIntensityAnalyzer object\n",
    "sia = SentimentIntensityAnalyzer()\n",
    "\n",
    "# Get the sentiment score of the sentence\n",
    "sentiment_score = sia.polarity_scores(sentence)\n",
    "\n",
    "# Print the sentiment and its score\n",
    "if sentiment_score['compound'] > 0:\n",
    "    print(\"Positive Sentiment with score of :\",sentiment_score['compound'])\n",
    "elif sentiment_score['compound'] == 0:\n",
    "    print(\"Neutral Sentiment with score of :\",sentiment_score['compound'])\n",
    "else:\n",
    "    print(\"Negative Sentiment with score of :\",sentiment_score['compound'])\n"
   ]
  },
  {
   "cell_type": "code",
   "execution_count": 11,
   "id": "2bc9085d",
   "metadata": {},
   "outputs": [
    {
     "name": "stderr",
     "output_type": "stream",
     "text": [
      "[nltk_data] Downloading package vader_lexicon to\n",
      "[nltk_data]     C:\\Users\\de34670\\AppData\\Roaming\\nltk_data...\n"
     ]
    },
    {
     "data": {
      "text/plain": [
       "True"
      ]
     },
     "execution_count": 11,
     "metadata": {},
     "output_type": "execute_result"
    }
   ],
   "source": [
    "\n",
    "  >>> import nltk\n",
    "  >>> nltk.download('vader_lexicon')"
   ]
  },
  {
   "cell_type": "code",
   "execution_count": null,
   "id": "fe41753b",
   "metadata": {},
   "outputs": [],
   "source": []
  }
 ],
 "metadata": {
  "kernelspec": {
   "display_name": "Python 3 (ipykernel)",
   "language": "python",
   "name": "python3"
  },
  "language_info": {
   "codemirror_mode": {
    "name": "ipython",
    "version": 3
   },
   "file_extension": ".py",
   "mimetype": "text/x-python",
   "name": "python",
   "nbconvert_exporter": "python",
   "pygments_lexer": "ipython3",
   "version": "3.9.13"
  }
 },
 "nbformat": 4,
 "nbformat_minor": 5
}
